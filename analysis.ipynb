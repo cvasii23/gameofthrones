{
 "cells": [
  {
   "cell_type": "markdown",
   "metadata": {},
   "source": [
    "# How to fake you have watched Game of Thrones using a Fake News Classifier, Sentiment Analysis and some heuristical considerations on psychology"
   ]
  },
  {
   "cell_type": "markdown",
   "metadata": {},
   "source": [
    "In this project, we want to make the psychological portrait of the GOT chracters based only on how are they talked about. In this notebook, we are performing analytics on tweets abot  GOT characters. Our choice for describing the psychological type is the [Myers-Briggs Indicator](https://en.wikipedia.org/wiki/Myers%E2%80%93Briggs_Type_Indicator)"
   ]
  },
  {
   "cell_type": "markdown",
   "metadata": {},
   "source": [
    "The Myers-Briggs Indicator takes into accout four axes:\n",
    "* __E__ xtraversion <-> __I__ ntroversion\n",
    "* __S__ ensing <-> i __N__ tuition\n",
    "* __T__ hinking <-> __F__ eeling\n",
    "* __J__ udging <-> __P__ erceiving"
   ]
  },
  {
   "cell_type": "code",
   "execution_count": 1,
   "metadata": {},
   "outputs": [],
   "source": [
    "import numpy as np\n",
    "import pandas as pd\n",
    "\n",
    "import matplotlib.pyplot as plt\n",
    "import seaborn as sns\n",
    "\n",
    "\n",
    "%matplotlib inline"
   ]
  },
  {
   "cell_type": "markdown",
   "metadata": {},
   "source": [
    " we have previously ran __Sentiment Analysis__ and __Fake News Detection__ on tweets, and store the results in  output_prediction.csv"
   ]
  },
  {
   "cell_type": "code",
   "execution_count": 2,
   "metadata": {},
   "outputs": [],
   "source": [
    "df = pd.read_csv('data/output_prediction.csv')"
   ]
  },
  {
   "cell_type": "code",
   "execution_count": 3,
   "metadata": {},
   "outputs": [
    {
     "data": {
      "text/html": [
       "<div>\n",
       "<style scoped>\n",
       "    .dataframe tbody tr th:only-of-type {\n",
       "        vertical-align: middle;\n",
       "    }\n",
       "\n",
       "    .dataframe tbody tr th {\n",
       "        vertical-align: top;\n",
       "    }\n",
       "\n",
       "    .dataframe thead th {\n",
       "        text-align: right;\n",
       "    }\n",
       "</style>\n",
       "<table border=\"1\" class=\"dataframe\">\n",
       "  <thead>\n",
       "    <tr style=\"text-align: right;\">\n",
       "      <th></th>\n",
       "      <th>text</th>\n",
       "      <th>length</th>\n",
       "      <th>euron</th>\n",
       "      <th>sansa</th>\n",
       "      <th>jaime</th>\n",
       "      <th>arya</th>\n",
       "      <th>tyrion</th>\n",
       "      <th>bran</th>\n",
       "      <th>night</th>\n",
       "      <th>daenerys</th>\n",
       "      <th>cersei</th>\n",
       "      <th>jon</th>\n",
       "      <th>fakeOrNot</th>\n",
       "      <th>Sentiment</th>\n",
       "    </tr>\n",
       "  </thead>\n",
       "  <tbody>\n",
       "    <tr>\n",
       "      <th>0</th>\n",
       "      <td>this new game of thrones night king theory is ...</td>\n",
       "      <td>78</td>\n",
       "      <td>0</td>\n",
       "      <td>0</td>\n",
       "      <td>0</td>\n",
       "      <td>0</td>\n",
       "      <td>0</td>\n",
       "      <td>0</td>\n",
       "      <td>1</td>\n",
       "      <td>0</td>\n",
       "      <td>0</td>\n",
       "      <td>0</td>\n",
       "      <td>0.080296</td>\n",
       "      <td>0.990070</td>\n",
       "    </tr>\n",
       "    <tr>\n",
       "      <th>1</th>\n",
       "      <td>congratulations for winning awards tonight wor...</td>\n",
       "      <td>96</td>\n",
       "      <td>0</td>\n",
       "      <td>0</td>\n",
       "      <td>0</td>\n",
       "      <td>0</td>\n",
       "      <td>0</td>\n",
       "      <td>0</td>\n",
       "      <td>1</td>\n",
       "      <td>0</td>\n",
       "      <td>0</td>\n",
       "      <td>0</td>\n",
       "      <td>0.024360</td>\n",
       "      <td>0.990476</td>\n",
       "    </tr>\n",
       "    <tr>\n",
       "      <th>2</th>\n",
       "      <td>more breaking news jinyoung of got and his vis...</td>\n",
       "      <td>109</td>\n",
       "      <td>0</td>\n",
       "      <td>0</td>\n",
       "      <td>0</td>\n",
       "      <td>0</td>\n",
       "      <td>0</td>\n",
       "      <td>0</td>\n",
       "      <td>1</td>\n",
       "      <td>0</td>\n",
       "      <td>0</td>\n",
       "      <td>0</td>\n",
       "      <td>0.470850</td>\n",
       "      <td>0.240832</td>\n",
       "    </tr>\n",
       "    <tr>\n",
       "      <th>3</th>\n",
       "      <td>congratulations for winning awards tonight wor...</td>\n",
       "      <td>96</td>\n",
       "      <td>0</td>\n",
       "      <td>0</td>\n",
       "      <td>0</td>\n",
       "      <td>0</td>\n",
       "      <td>0</td>\n",
       "      <td>0</td>\n",
       "      <td>1</td>\n",
       "      <td>0</td>\n",
       "      <td>0</td>\n",
       "      <td>0</td>\n",
       "      <td>0.024360</td>\n",
       "      <td>0.990476</td>\n",
       "    </tr>\n",
       "    <tr>\n",
       "      <th>4</th>\n",
       "      <td>congratulations for winning awards tonight wor...</td>\n",
       "      <td>96</td>\n",
       "      <td>0</td>\n",
       "      <td>0</td>\n",
       "      <td>0</td>\n",
       "      <td>0</td>\n",
       "      <td>0</td>\n",
       "      <td>0</td>\n",
       "      <td>1</td>\n",
       "      <td>0</td>\n",
       "      <td>0</td>\n",
       "      <td>0</td>\n",
       "      <td>0.024360</td>\n",
       "      <td>0.990476</td>\n",
       "    </tr>\n",
       "  </tbody>\n",
       "</table>\n",
       "</div>"
      ],
      "text/plain": [
       "                                                text  length  euron  sansa  \\\n",
       "0  this new game of thrones night king theory is ...      78      0      0   \n",
       "1  congratulations for winning awards tonight wor...      96      0      0   \n",
       "2  more breaking news jinyoung of got and his vis...     109      0      0   \n",
       "3  congratulations for winning awards tonight wor...      96      0      0   \n",
       "4  congratulations for winning awards tonight wor...      96      0      0   \n",
       "\n",
       "   jaime  arya  tyrion  bran  night  daenerys  cersei  jon  fakeOrNot  \\\n",
       "0      0     0       0     0      1         0       0    0   0.080296   \n",
       "1      0     0       0     0      1         0       0    0   0.024360   \n",
       "2      0     0       0     0      1         0       0    0   0.470850   \n",
       "3      0     0       0     0      1         0       0    0   0.024360   \n",
       "4      0     0       0     0      1         0       0    0   0.024360   \n",
       "\n",
       "   Sentiment  \n",
       "0   0.990070  \n",
       "1   0.990476  \n",
       "2   0.240832  \n",
       "3   0.990476  \n",
       "4   0.990476  "
      ]
     },
     "execution_count": 3,
     "metadata": {},
     "output_type": "execute_result"
    }
   ],
   "source": [
    "df.head()"
   ]
  },
  {
   "cell_type": "markdown",
   "metadata": {},
   "source": [
    "## 1. Introvert vs extrovert characters"
   ]
  },
  {
   "cell_type": "markdown",
   "metadata": {},
   "source": [
    "We will compare, for each character, the amount of new tweets vs retweets, the idea being that people tend to have their own opinions about extrovert characters, but they don't know much about the introverted ones, so they will mostly retweet other tweets."
   ]
  },
  {
   "cell_type": "markdown",
   "metadata": {},
   "source": [
    "Let's explore a bit our dataset. The total no of tweets:"
   ]
  },
  {
   "cell_type": "code",
   "execution_count": 4,
   "metadata": {},
   "outputs": [
    {
     "data": {
      "text/plain": [
       "4663"
      ]
     },
     "execution_count": 4,
     "metadata": {},
     "output_type": "execute_result"
    }
   ],
   "source": [
    "len(df)"
   ]
  },
  {
   "cell_type": "markdown",
   "metadata": {},
   "source": [
    "without retweets:"
   ]
  },
  {
   "cell_type": "code",
   "execution_count": 5,
   "metadata": {},
   "outputs": [
    {
     "data": {
      "text/plain": [
       "1329"
      ]
     },
     "execution_count": 5,
     "metadata": {},
     "output_type": "execute_result"
    }
   ],
   "source": [
    "len(df.drop_duplicates())"
   ]
  },
  {
   "cell_type": "code",
   "execution_count": 6,
   "metadata": {},
   "outputs": [],
   "source": [
    "df.drop('night',axis=1,inplace=True) # unfortunately, night is a common word, so we cannot include it in our study"
   ]
  },
  {
   "cell_type": "code",
   "execution_count": 7,
   "metadata": {},
   "outputs": [],
   "source": [
    "chars = df.columns[2:-2].tolist()"
   ]
  },
  {
   "cell_type": "code",
   "execution_count": 8,
   "metadata": {},
   "outputs": [],
   "source": [
    "dfNoDupl = df.drop_duplicates() #dataframe with unique tweets"
   ]
  },
  {
   "cell_type": "markdown",
   "metadata": {},
   "source": [
    "Next, we create a dictionary, that we will turn into a dataframe, with the number of original tweets vs all tweets for each character:"
   ]
  },
  {
   "cell_type": "code",
   "execution_count": 9,
   "metadata": {},
   "outputs": [],
   "source": [
    "charDict = {}\n",
    "for char in chars:\n",
    "    charDict[char]=[len(df[df[char] == 1]), len(dfNoDupl[dfNoDupl[char] == 1])]"
   ]
  },
  {
   "cell_type": "code",
   "execution_count": 10,
   "metadata": {},
   "outputs": [],
   "source": [
    "charDF = pd.DataFrame(charDict,index={'all','unique'})"
   ]
  },
  {
   "cell_type": "code",
   "execution_count": 11,
   "metadata": {},
   "outputs": [
    {
     "data": {
      "text/html": [
       "<div>\n",
       "<style scoped>\n",
       "    .dataframe tbody tr th:only-of-type {\n",
       "        vertical-align: middle;\n",
       "    }\n",
       "\n",
       "    .dataframe tbody tr th {\n",
       "        vertical-align: top;\n",
       "    }\n",
       "\n",
       "    .dataframe thead th {\n",
       "        text-align: right;\n",
       "    }\n",
       "</style>\n",
       "<table border=\"1\" class=\"dataframe\">\n",
       "  <thead>\n",
       "    <tr style=\"text-align: right;\">\n",
       "      <th></th>\n",
       "      <th>arya</th>\n",
       "      <th>bran</th>\n",
       "      <th>cersei</th>\n",
       "      <th>daenerys</th>\n",
       "      <th>euron</th>\n",
       "      <th>jaime</th>\n",
       "      <th>jon</th>\n",
       "      <th>sansa</th>\n",
       "      <th>tyrion</th>\n",
       "    </tr>\n",
       "  </thead>\n",
       "  <tbody>\n",
       "    <tr>\n",
       "      <th>unique</th>\n",
       "      <td>110</td>\n",
       "      <td>1085</td>\n",
       "      <td>150</td>\n",
       "      <td>238</td>\n",
       "      <td>6</td>\n",
       "      <td>66</td>\n",
       "      <td>404</td>\n",
       "      <td>64</td>\n",
       "      <td>129</td>\n",
       "    </tr>\n",
       "    <tr>\n",
       "      <th>all</th>\n",
       "      <td>67</td>\n",
       "      <td>135</td>\n",
       "      <td>82</td>\n",
       "      <td>134</td>\n",
       "      <td>6</td>\n",
       "      <td>42</td>\n",
       "      <td>237</td>\n",
       "      <td>49</td>\n",
       "      <td>88</td>\n",
       "    </tr>\n",
       "  </tbody>\n",
       "</table>\n",
       "</div>"
      ],
      "text/plain": [
       "        arya  bran  cersei  daenerys  euron  jaime  jon  sansa  tyrion\n",
       "unique   110  1085     150       238      6     66  404     64     129\n",
       "all       67   135      82       134      6     42  237     49      88"
      ]
     },
     "execution_count": 11,
     "metadata": {},
     "output_type": "execute_result"
    }
   ],
   "source": [
    "charDF"
   ]
  },
  {
   "cell_type": "markdown",
   "metadata": {},
   "source": [
    "We have to modify a little bit the dataframe for the sake of our plot:"
   ]
  },
  {
   "cell_type": "code",
   "execution_count": 12,
   "metadata": {},
   "outputs": [],
   "source": [
    "charSt = charDF.stack().reset_index()\n",
    "charSt.columns = ['level','name','values']"
   ]
  },
  {
   "cell_type": "code",
   "execution_count": 13,
   "metadata": {},
   "outputs": [
    {
     "data": {
      "image/png": "[encoded data removed]",
      "text/plain": [
       "<matplotlib.figure.Figure at 0x7f660682e6d8>"
      ]
     },
     "metadata": {},
     "output_type": "display_data"
    }
   ],
   "source": [
    "g = sns.factorplot(x='name',  y='values',hue='level', data=charSt,\n",
    "                   size=8, kind=\"bar\", palette=\"YlGnBu\")\n",
    "g.savefig(\"images/retweetProp.png\")"
   ]
  },
  {
   "cell_type": "markdown",
   "metadata": {},
   "source": [
    "### Conclusion: Bran and Jon are introverts, the others are Extroverts."
   ]
  },
  {
   "cell_type": "markdown",
   "metadata": {},
   "source": [
    "## 2. Dataframe manipulation for the rest of the study"
   ]
  },
  {
   "cell_type": "code",
   "execution_count": 14,
   "metadata": {},
   "outputs": [],
   "source": [
    "df.drop_duplicates(inplace=True)"
   ]
  },
  {
   "cell_type": "code",
   "execution_count": 15,
   "metadata": {},
   "outputs": [
    {
     "data": {
      "text/html": [
       "<div>\n",
       "<style scoped>\n",
       "    .dataframe tbody tr th:only-of-type {\n",
       "        vertical-align: middle;\n",
       "    }\n",
       "\n",
       "    .dataframe tbody tr th {\n",
       "        vertical-align: top;\n",
       "    }\n",
       "\n",
       "    .dataframe thead th {\n",
       "        text-align: right;\n",
       "    }\n",
       "</style>\n",
       "<table border=\"1\" class=\"dataframe\">\n",
       "  <thead>\n",
       "    <tr style=\"text-align: right;\">\n",
       "      <th></th>\n",
       "      <th>text</th>\n",
       "      <th>length</th>\n",
       "      <th>euron</th>\n",
       "      <th>sansa</th>\n",
       "      <th>jaime</th>\n",
       "      <th>arya</th>\n",
       "      <th>tyrion</th>\n",
       "      <th>bran</th>\n",
       "      <th>daenerys</th>\n",
       "      <th>cersei</th>\n",
       "      <th>jon</th>\n",
       "      <th>fakeOrNot</th>\n",
       "      <th>Sentiment</th>\n",
       "    </tr>\n",
       "  </thead>\n",
       "  <tbody>\n",
       "    <tr>\n",
       "      <th>0</th>\n",
       "      <td>this new game of thrones night king theory is ...</td>\n",
       "      <td>78</td>\n",
       "      <td>0</td>\n",
       "      <td>0</td>\n",
       "      <td>0</td>\n",
       "      <td>0</td>\n",
       "      <td>0</td>\n",
       "      <td>0</td>\n",
       "      <td>0</td>\n",
       "      <td>0</td>\n",
       "      <td>0</td>\n",
       "      <td>0.080296</td>\n",
       "      <td>0.990070</td>\n",
       "    </tr>\n",
       "    <tr>\n",
       "      <th>1</th>\n",
       "      <td>congratulations for winning awards tonight wor...</td>\n",
       "      <td>96</td>\n",
       "      <td>0</td>\n",
       "      <td>0</td>\n",
       "      <td>0</td>\n",
       "      <td>0</td>\n",
       "      <td>0</td>\n",
       "      <td>0</td>\n",
       "      <td>0</td>\n",
       "      <td>0</td>\n",
       "      <td>0</td>\n",
       "      <td>0.024360</td>\n",
       "      <td>0.990476</td>\n",
       "    </tr>\n",
       "    <tr>\n",
       "      <th>2</th>\n",
       "      <td>more breaking news jinyoung of got and his vis...</td>\n",
       "      <td>109</td>\n",
       "      <td>0</td>\n",
       "      <td>0</td>\n",
       "      <td>0</td>\n",
       "      <td>0</td>\n",
       "      <td>0</td>\n",
       "      <td>0</td>\n",
       "      <td>0</td>\n",
       "      <td>0</td>\n",
       "      <td>0</td>\n",
       "      <td>0.470850</td>\n",
       "      <td>0.240832</td>\n",
       "    </tr>\n",
       "    <tr>\n",
       "      <th>5</th>\n",
       "      <td>live happy day today creating my husbando jaim...</td>\n",
       "      <td>59</td>\n",
       "      <td>0</td>\n",
       "      <td>0</td>\n",
       "      <td>1</td>\n",
       "      <td>0</td>\n",
       "      <td>0</td>\n",
       "      <td>0</td>\n",
       "      <td>0</td>\n",
       "      <td>0</td>\n",
       "      <td>0</td>\n",
       "      <td>0.019901</td>\n",
       "      <td>0.992344</td>\n",
       "    </tr>\n",
       "    <tr>\n",
       "      <th>6</th>\n",
       "      <td>got won two awards on gaon tonight and even re...</td>\n",
       "      <td>123</td>\n",
       "      <td>0</td>\n",
       "      <td>0</td>\n",
       "      <td>0</td>\n",
       "      <td>0</td>\n",
       "      <td>0</td>\n",
       "      <td>0</td>\n",
       "      <td>0</td>\n",
       "      <td>0</td>\n",
       "      <td>0</td>\n",
       "      <td>0.106873</td>\n",
       "      <td>0.971587</td>\n",
       "    </tr>\n",
       "  </tbody>\n",
       "</table>\n",
       "</div>"
      ],
      "text/plain": [
       "                                                text  length  euron  sansa  \\\n",
       "0  this new game of thrones night king theory is ...      78      0      0   \n",
       "1  congratulations for winning awards tonight wor...      96      0      0   \n",
       "2  more breaking news jinyoung of got and his vis...     109      0      0   \n",
       "5  live happy day today creating my husbando jaim...      59      0      0   \n",
       "6  got won two awards on gaon tonight and even re...     123      0      0   \n",
       "\n",
       "   jaime  arya  tyrion  bran  daenerys  cersei  jon  fakeOrNot  Sentiment  \n",
       "0      0     0       0     0         0       0    0   0.080296   0.990070  \n",
       "1      0     0       0     0         0       0    0   0.024360   0.990476  \n",
       "2      0     0       0     0         0       0    0   0.470850   0.240832  \n",
       "5      1     0       0     0         0       0    0   0.019901   0.992344  \n",
       "6      0     0       0     0         0       0    0   0.106873   0.971587  "
      ]
     },
     "execution_count": 15,
     "metadata": {},
     "output_type": "execute_result"
    }
   ],
   "source": [
    "df.head()"
   ]
  },
  {
   "cell_type": "markdown",
   "metadata": {},
   "source": [
    "Example of fake:"
   ]
  },
  {
   "cell_type": "code",
   "execution_count": 16,
   "metadata": {},
   "outputs": [
    {
     "data": {
      "text/plain": [
       "'my baby done grown up from the nancy drew of drag to the daenerys stormborn targaryen of drag and i m so proud'"
      ]
     },
     "execution_count": 16,
     "metadata": {},
     "output_type": "execute_result"
    }
   ],
   "source": [
    "df.sort_values(by='fakeOrNot').iloc[-3,0]"
   ]
  },
  {
   "cell_type": "markdown",
   "metadata": {},
   "source": [
    "Example of a not fake:"
   ]
  },
  {
   "cell_type": "code",
   "execution_count": 17,
   "metadata": {},
   "outputs": [
    {
     "data": {
      "text/plain": [
       "'game of throne th final season will be out in days spent without got jon is not a bastard rightful'"
      ]
     },
     "execution_count": 17,
     "metadata": {},
     "output_type": "execute_result"
    }
   ],
   "source": [
    "df.sort_values(by='fakeOrNot').iloc[4,0]"
   ]
  },
  {
   "cell_type": "markdown",
   "metadata": {},
   "source": [
    "We would like to compare fake news and sentiment with the correspondent mean values, so we will have above average sentiment/fakenews or less than average."
   ]
  },
  {
   "cell_type": "code",
   "execution_count": 18,
   "metadata": {},
   "outputs": [],
   "source": [
    "\n",
    "\n",
    "meanFakeOrNot = df.mean()['fakeOrNot']\n",
    "meanSentiment = df.mean()['Sentiment']"
   ]
  },
  {
   "cell_type": "markdown",
   "metadata": {},
   "source": [
    "Now, we need to construct a dataframe with mean _fakeOrNot_ and _Sentiment_ for each character:"
   ]
  },
  {
   "cell_type": "code",
   "execution_count": 19,
   "metadata": {},
   "outputs": [],
   "source": [
    "avgDict = {}\n",
    "for char in chars:\n",
    "    avgDict[char] = [ df['fakeOrNot'][df[char] == 1].mean(),df['Sentiment'][df[char] == 1].mean()]"
   ]
  },
  {
   "cell_type": "code",
   "execution_count": 20,
   "metadata": {},
   "outputs": [],
   "source": [
    "data = pd.DataFrame(avgDict, index = ['fakeOrNot', 'Sentiment'])"
   ]
  },
  {
   "cell_type": "code",
   "execution_count": 21,
   "metadata": {},
   "outputs": [
    {
     "data": {
      "text/html": [
       "<div>\n",
       "<style scoped>\n",
       "    .dataframe tbody tr th:only-of-type {\n",
       "        vertical-align: middle;\n",
       "    }\n",
       "\n",
       "    .dataframe tbody tr th {\n",
       "        vertical-align: top;\n",
       "    }\n",
       "\n",
       "    .dataframe thead th {\n",
       "        text-align: right;\n",
       "    }\n",
       "</style>\n",
       "<table border=\"1\" class=\"dataframe\">\n",
       "  <thead>\n",
       "    <tr style=\"text-align: right;\">\n",
       "      <th></th>\n",
       "      <th>fakeOrNot</th>\n",
       "      <th>Sentiment</th>\n",
       "    </tr>\n",
       "  </thead>\n",
       "  <tbody>\n",
       "    <tr>\n",
       "      <th>arya</th>\n",
       "      <td>0.149135</td>\n",
       "      <td>0.705200</td>\n",
       "    </tr>\n",
       "    <tr>\n",
       "      <th>bran</th>\n",
       "      <td>0.118947</td>\n",
       "      <td>0.636745</td>\n",
       "    </tr>\n",
       "    <tr>\n",
       "      <th>cersei</th>\n",
       "      <td>0.123288</td>\n",
       "      <td>0.543963</td>\n",
       "    </tr>\n",
       "    <tr>\n",
       "      <th>daenerys</th>\n",
       "      <td>0.120106</td>\n",
       "      <td>0.588087</td>\n",
       "    </tr>\n",
       "    <tr>\n",
       "      <th>euron</th>\n",
       "      <td>0.172555</td>\n",
       "      <td>0.473819</td>\n",
       "    </tr>\n",
       "    <tr>\n",
       "      <th>jaime</th>\n",
       "      <td>0.130966</td>\n",
       "      <td>0.637999</td>\n",
       "    </tr>\n",
       "    <tr>\n",
       "      <th>jon</th>\n",
       "      <td>0.068844</td>\n",
       "      <td>0.443692</td>\n",
       "    </tr>\n",
       "    <tr>\n",
       "      <th>sansa</th>\n",
       "      <td>0.179761</td>\n",
       "      <td>0.603625</td>\n",
       "    </tr>\n",
       "    <tr>\n",
       "      <th>tyrion</th>\n",
       "      <td>0.090714</td>\n",
       "      <td>0.646498</td>\n",
       "    </tr>\n",
       "  </tbody>\n",
       "</table>\n",
       "</div>"
      ],
      "text/plain": [
       "          fakeOrNot  Sentiment\n",
       "arya       0.149135   0.705200\n",
       "bran       0.118947   0.636745\n",
       "cersei     0.123288   0.543963\n",
       "daenerys   0.120106   0.588087\n",
       "euron      0.172555   0.473819\n",
       "jaime      0.130966   0.637999\n",
       "jon        0.068844   0.443692\n",
       "sansa      0.179761   0.603625\n",
       "tyrion     0.090714   0.646498"
      ]
     },
     "execution_count": 21,
     "metadata": {},
     "output_type": "execute_result"
    }
   ],
   "source": [
    "data.transpose()"
   ]
  },
  {
   "cell_type": "markdown",
   "metadata": {},
   "source": [
    "Merge with retweet data:"
   ]
  },
  {
   "cell_type": "code",
   "execution_count": 22,
   "metadata": {},
   "outputs": [],
   "source": [
    "data = pd.merge(data.transpose(),charDF.transpose(),left_index=True, right_index=True)"
   ]
  },
  {
   "cell_type": "code",
   "execution_count": 23,
   "metadata": {},
   "outputs": [
    {
     "data": {
      "text/html": [
       "<div>\n",
       "<style scoped>\n",
       "    .dataframe tbody tr th:only-of-type {\n",
       "        vertical-align: middle;\n",
       "    }\n",
       "\n",
       "    .dataframe tbody tr th {\n",
       "        vertical-align: top;\n",
       "    }\n",
       "\n",
       "    .dataframe thead th {\n",
       "        text-align: right;\n",
       "    }\n",
       "</style>\n",
       "<table border=\"1\" class=\"dataframe\">\n",
       "  <thead>\n",
       "    <tr style=\"text-align: right;\">\n",
       "      <th></th>\n",
       "      <th>fakeOrNot</th>\n",
       "      <th>Sentiment</th>\n",
       "      <th>unique</th>\n",
       "      <th>all</th>\n",
       "    </tr>\n",
       "  </thead>\n",
       "  <tbody>\n",
       "    <tr>\n",
       "      <th>arya</th>\n",
       "      <td>0.149135</td>\n",
       "      <td>0.705200</td>\n",
       "      <td>110</td>\n",
       "      <td>67</td>\n",
       "    </tr>\n",
       "    <tr>\n",
       "      <th>bran</th>\n",
       "      <td>0.118947</td>\n",
       "      <td>0.636745</td>\n",
       "      <td>1085</td>\n",
       "      <td>135</td>\n",
       "    </tr>\n",
       "    <tr>\n",
       "      <th>cersei</th>\n",
       "      <td>0.123288</td>\n",
       "      <td>0.543963</td>\n",
       "      <td>150</td>\n",
       "      <td>82</td>\n",
       "    </tr>\n",
       "    <tr>\n",
       "      <th>daenerys</th>\n",
       "      <td>0.120106</td>\n",
       "      <td>0.588087</td>\n",
       "      <td>238</td>\n",
       "      <td>134</td>\n",
       "    </tr>\n",
       "    <tr>\n",
       "      <th>euron</th>\n",
       "      <td>0.172555</td>\n",
       "      <td>0.473819</td>\n",
       "      <td>6</td>\n",
       "      <td>6</td>\n",
       "    </tr>\n",
       "    <tr>\n",
       "      <th>jaime</th>\n",
       "      <td>0.130966</td>\n",
       "      <td>0.637999</td>\n",
       "      <td>66</td>\n",
       "      <td>42</td>\n",
       "    </tr>\n",
       "    <tr>\n",
       "      <th>jon</th>\n",
       "      <td>0.068844</td>\n",
       "      <td>0.443692</td>\n",
       "      <td>404</td>\n",
       "      <td>237</td>\n",
       "    </tr>\n",
       "    <tr>\n",
       "      <th>sansa</th>\n",
       "      <td>0.179761</td>\n",
       "      <td>0.603625</td>\n",
       "      <td>64</td>\n",
       "      <td>49</td>\n",
       "    </tr>\n",
       "    <tr>\n",
       "      <th>tyrion</th>\n",
       "      <td>0.090714</td>\n",
       "      <td>0.646498</td>\n",
       "      <td>129</td>\n",
       "      <td>88</td>\n",
       "    </tr>\n",
       "  </tbody>\n",
       "</table>\n",
       "</div>"
      ],
      "text/plain": [
       "          fakeOrNot  Sentiment  unique  all\n",
       "arya       0.149135   0.705200     110   67\n",
       "bran       0.118947   0.636745    1085  135\n",
       "cersei     0.123288   0.543963     150   82\n",
       "daenerys   0.120106   0.588087     238  134\n",
       "euron      0.172555   0.473819       6    6\n",
       "jaime      0.130966   0.637999      66   42\n",
       "jon        0.068844   0.443692     404  237\n",
       "sansa      0.179761   0.603625      64   49\n",
       "tyrion     0.090714   0.646498     129   88"
      ]
     },
     "execution_count": 23,
     "metadata": {},
     "output_type": "execute_result"
    }
   ],
   "source": [
    "data"
   ]
  },
  {
   "cell_type": "code",
   "execution_count": 24,
   "metadata": {},
   "outputs": [],
   "source": [
    "data1 = data.copy()"
   ]
  },
  {
   "cell_type": "code",
   "execution_count": 25,
   "metadata": {},
   "outputs": [],
   "source": [
    "data1['rt_ratio'] = data1['unique'] / data1['all']"
   ]
  },
  {
   "cell_type": "code",
   "execution_count": 26,
   "metadata": {},
   "outputs": [],
   "source": [
    "data1.drop(['all', 'unique'],axis=1, inplace=True)"
   ]
  },
  {
   "cell_type": "markdown",
   "metadata": {},
   "source": [
    "In the end:"
   ]
  },
  {
   "cell_type": "code",
   "execution_count": 27,
   "metadata": {},
   "outputs": [
    {
     "data": {
      "text/html": [
       "<div>\n",
       "<style scoped>\n",
       "    .dataframe tbody tr th:only-of-type {\n",
       "        vertical-align: middle;\n",
       "    }\n",
       "\n",
       "    .dataframe tbody tr th {\n",
       "        vertical-align: top;\n",
       "    }\n",
       "\n",
       "    .dataframe thead th {\n",
       "        text-align: right;\n",
       "    }\n",
       "</style>\n",
       "<table border=\"1\" class=\"dataframe\">\n",
       "  <thead>\n",
       "    <tr style=\"text-align: right;\">\n",
       "      <th></th>\n",
       "      <th>fakeOrNot</th>\n",
       "      <th>Sentiment</th>\n",
       "      <th>rt_ratio</th>\n",
       "    </tr>\n",
       "  </thead>\n",
       "  <tbody>\n",
       "    <tr>\n",
       "      <th>arya</th>\n",
       "      <td>0.149135</td>\n",
       "      <td>0.705200</td>\n",
       "      <td>1.641791</td>\n",
       "    </tr>\n",
       "    <tr>\n",
       "      <th>bran</th>\n",
       "      <td>0.118947</td>\n",
       "      <td>0.636745</td>\n",
       "      <td>8.037037</td>\n",
       "    </tr>\n",
       "    <tr>\n",
       "      <th>cersei</th>\n",
       "      <td>0.123288</td>\n",
       "      <td>0.543963</td>\n",
       "      <td>1.829268</td>\n",
       "    </tr>\n",
       "    <tr>\n",
       "      <th>daenerys</th>\n",
       "      <td>0.120106</td>\n",
       "      <td>0.588087</td>\n",
       "      <td>1.776119</td>\n",
       "    </tr>\n",
       "    <tr>\n",
       "      <th>euron</th>\n",
       "      <td>0.172555</td>\n",
       "      <td>0.473819</td>\n",
       "      <td>1.000000</td>\n",
       "    </tr>\n",
       "    <tr>\n",
       "      <th>jaime</th>\n",
       "      <td>0.130966</td>\n",
       "      <td>0.637999</td>\n",
       "      <td>1.571429</td>\n",
       "    </tr>\n",
       "    <tr>\n",
       "      <th>jon</th>\n",
       "      <td>0.068844</td>\n",
       "      <td>0.443692</td>\n",
       "      <td>1.704641</td>\n",
       "    </tr>\n",
       "    <tr>\n",
       "      <th>sansa</th>\n",
       "      <td>0.179761</td>\n",
       "      <td>0.603625</td>\n",
       "      <td>1.306122</td>\n",
       "    </tr>\n",
       "    <tr>\n",
       "      <th>tyrion</th>\n",
       "      <td>0.090714</td>\n",
       "      <td>0.646498</td>\n",
       "      <td>1.465909</td>\n",
       "    </tr>\n",
       "  </tbody>\n",
       "</table>\n",
       "</div>"
      ],
      "text/plain": [
       "          fakeOrNot  Sentiment  rt_ratio\n",
       "arya       0.149135   0.705200  1.641791\n",
       "bran       0.118947   0.636745  8.037037\n",
       "cersei     0.123288   0.543963  1.829268\n",
       "daenerys   0.120106   0.588087  1.776119\n",
       "euron      0.172555   0.473819  1.000000\n",
       "jaime      0.130966   0.637999  1.571429\n",
       "jon        0.068844   0.443692  1.704641\n",
       "sansa      0.179761   0.603625  1.306122\n",
       "tyrion     0.090714   0.646498  1.465909"
      ]
     },
     "execution_count": 27,
     "metadata": {},
     "output_type": "execute_result"
    }
   ],
   "source": [
    "data1"
   ]
  },
  {
   "cell_type": "code",
   "execution_count": 28,
   "metadata": {},
   "outputs": [
    {
     "data": {
      "image/png": "[encoded data removed]",
      "text/plain": [
       "<matplotlib.figure.Figure at 0x7f65fbd6f6d8>"
      ]
     },
     "metadata": {},
     "output_type": "display_data"
    }
   ],
   "source": [
    "plt.figure(figsize=(10,8))\n",
    "ax = sns.barplot(x=data1.index, y='fakeOrNot', data=data1,palette=\"YlGnBu\")\n",
    "x = plt.gca().axes.get_xlim()\n",
    "\n",
    "plt.plot(x, len(x) * [meanFakeOrNot], sns.xkcd_rgb[\"pale red\"])\n",
    "plt.savefig(\"images/fakeOrNot.png\")\n",
    "plt.show()"
   ]
  },
  {
   "cell_type": "code",
   "execution_count": 29,
   "metadata": {},
   "outputs": [
    {
     "data": {
      "image/png": "[encoded data removed]",
      "text/plain": [
       "<matplotlib.figure.Figure at 0x7f65fbceec88>"
      ]
     },
     "metadata": {},
     "output_type": "display_data"
    }
   ],
   "source": [
    "plt.figure(figsize=(10,8))\n",
    "ax = sns.barplot(x=data1.index, y='Sentiment', data=data1,palette=\"YlGnBu\")\n",
    "x = plt.gca().axes.get_xlim()\n",
    "\n",
    "plt.plot(x, len(x) * [meanSentiment], sns.xkcd_rgb[\"pale red\"])\n",
    "plt.savefig(\"images/sentiment.png\")\n",
    "plt.show()"
   ]
  },
  {
   "cell_type": "markdown",
   "metadata": {},
   "source": [
    "Let's also have the information _greater than average_ in the dataframe"
   ]
  },
  {
   "cell_type": "code",
   "execution_count": 30,
   "metadata": {},
   "outputs": [],
   "source": [
    "data1['fakePositioning'] = data1['fakeOrNot'].map(lambda x: x >= meanFakeOrNot)\n",
    "data1['sentimentPositioning'] = data1['Sentiment'].map(lambda x: x >= meanSentiment)"
   ]
  },
  {
   "cell_type": "code",
   "execution_count": 31,
   "metadata": {},
   "outputs": [
    {
     "data": {
      "text/html": [
       "<div>\n",
       "<style scoped>\n",
       "    .dataframe tbody tr th:only-of-type {\n",
       "        vertical-align: middle;\n",
       "    }\n",
       "\n",
       "    .dataframe tbody tr th {\n",
       "        vertical-align: top;\n",
       "    }\n",
       "\n",
       "    .dataframe thead th {\n",
       "        text-align: right;\n",
       "    }\n",
       "</style>\n",
       "<table border=\"1\" class=\"dataframe\">\n",
       "  <thead>\n",
       "    <tr style=\"text-align: right;\">\n",
       "      <th></th>\n",
       "      <th>fakeOrNot</th>\n",
       "      <th>Sentiment</th>\n",
       "      <th>rt_ratio</th>\n",
       "      <th>fakePositioning</th>\n",
       "      <th>sentimentPositioning</th>\n",
       "    </tr>\n",
       "  </thead>\n",
       "  <tbody>\n",
       "    <tr>\n",
       "      <th>arya</th>\n",
       "      <td>0.149135</td>\n",
       "      <td>0.705200</td>\n",
       "      <td>1.641791</td>\n",
       "      <td>True</td>\n",
       "      <td>True</td>\n",
       "    </tr>\n",
       "    <tr>\n",
       "      <th>bran</th>\n",
       "      <td>0.118947</td>\n",
       "      <td>0.636745</td>\n",
       "      <td>8.037037</td>\n",
       "      <td>True</td>\n",
       "      <td>False</td>\n",
       "    </tr>\n",
       "    <tr>\n",
       "      <th>cersei</th>\n",
       "      <td>0.123288</td>\n",
       "      <td>0.543963</td>\n",
       "      <td>1.829268</td>\n",
       "      <td>True</td>\n",
       "      <td>False</td>\n",
       "    </tr>\n",
       "    <tr>\n",
       "      <th>daenerys</th>\n",
       "      <td>0.120106</td>\n",
       "      <td>0.588087</td>\n",
       "      <td>1.776119</td>\n",
       "      <td>True</td>\n",
       "      <td>False</td>\n",
       "    </tr>\n",
       "    <tr>\n",
       "      <th>euron</th>\n",
       "      <td>0.172555</td>\n",
       "      <td>0.473819</td>\n",
       "      <td>1.000000</td>\n",
       "      <td>True</td>\n",
       "      <td>False</td>\n",
       "    </tr>\n",
       "    <tr>\n",
       "      <th>jaime</th>\n",
       "      <td>0.130966</td>\n",
       "      <td>0.637999</td>\n",
       "      <td>1.571429</td>\n",
       "      <td>True</td>\n",
       "      <td>False</td>\n",
       "    </tr>\n",
       "    <tr>\n",
       "      <th>jon</th>\n",
       "      <td>0.068844</td>\n",
       "      <td>0.443692</td>\n",
       "      <td>1.704641</td>\n",
       "      <td>False</td>\n",
       "      <td>False</td>\n",
       "    </tr>\n",
       "    <tr>\n",
       "      <th>sansa</th>\n",
       "      <td>0.179761</td>\n",
       "      <td>0.603625</td>\n",
       "      <td>1.306122</td>\n",
       "      <td>True</td>\n",
       "      <td>False</td>\n",
       "    </tr>\n",
       "    <tr>\n",
       "      <th>tyrion</th>\n",
       "      <td>0.090714</td>\n",
       "      <td>0.646498</td>\n",
       "      <td>1.465909</td>\n",
       "      <td>False</td>\n",
       "      <td>True</td>\n",
       "    </tr>\n",
       "  </tbody>\n",
       "</table>\n",
       "</div>"
      ],
      "text/plain": [
       "          fakeOrNot  Sentiment  rt_ratio  fakePositioning  \\\n",
       "arya       0.149135   0.705200  1.641791             True   \n",
       "bran       0.118947   0.636745  8.037037             True   \n",
       "cersei     0.123288   0.543963  1.829268             True   \n",
       "daenerys   0.120106   0.588087  1.776119             True   \n",
       "euron      0.172555   0.473819  1.000000             True   \n",
       "jaime      0.130966   0.637999  1.571429             True   \n",
       "jon        0.068844   0.443692  1.704641            False   \n",
       "sansa      0.179761   0.603625  1.306122             True   \n",
       "tyrion     0.090714   0.646498  1.465909            False   \n",
       "\n",
       "          sentimentPositioning  \n",
       "arya                      True  \n",
       "bran                     False  \n",
       "cersei                   False  \n",
       "daenerys                 False  \n",
       "euron                    False  \n",
       "jaime                    False  \n",
       "jon                      False  \n",
       "sansa                    False  \n",
       "tyrion                    True  "
      ]
     },
     "execution_count": 31,
     "metadata": {},
     "output_type": "execute_result"
    }
   ],
   "source": [
    "data1"
   ]
  },
  {
   "cell_type": "markdown",
   "metadata": {},
   "source": [
    "## 3. Sensing vs Intuition"
   ]
  },
  {
   "cell_type": "markdown",
   "metadata": {},
   "source": [
    "Overall sentiment gives the classification of this axis:[almost 75% of the population is sensing type](https://personalitymax.com/personality-types/preferences/sensing-intuition/) and they will dislike the abstractness of the intuitive type."
   ]
  },
  {
   "cell_type": "markdown",
   "metadata": {},
   "source": [
    "### Conclusion\n",
    "* Arya and Tyrion are S, positive overall sentiment\n",
    "* Bran, Cersei, Daenerys, Euron, Jaime, Jon, Sansa are N, negative overall sentiment"
   ]
  },
  {
   "cell_type": "markdown",
   "metadata": {},
   "source": [
    "Next we separate tweets from High Cognitive and Low Cognitive users."
   ]
  },
  {
   "cell_type": "markdown",
   "metadata": {},
   "source": [
    "We partly base our next conclusions on the fact that people with low cognitive capacity tend to hate \"low-choice\" groups, e.g. roma, LGBT, who did not choose to be that way, but people high in cognitive ability express more prejudice against high-choice groups, i.e. groups that they think should be able to change their minds, e.g. conservatives, as [this study](http://journals.sagepub.com/doi/abs/10.1177/1948550616660592) reveals. \n",
    "In the Judging-Perciving dichotomy, the judging peaople are the ones with a transparent decision making process, so, if a high cognitive person will dislike someone, it will likely be a judging one. However, the ones disliked by the low cognitive persons could be both P and J. But if a GOT character is J and is disliked by low cognitive people, it will also be disliked by the high cognitives, as described above. Therefore, if a character is disliked _only_ by low cognitives, it must be a P."
   ]
  },
  {
   "cell_type": "markdown",
   "metadata": {},
   "source": [
    "We separate the dataframe in two and perform separate analysis on each of them. Fake news type of phrasing attracts especially people with reduced cognitive capacity (e.g. Romania's Antena 3), while high cognitive people are less likely to be attracted by fake news kind of discourse.\n"
   ]
  },
  {
   "cell_type": "code",
   "execution_count": 32,
   "metadata": {},
   "outputs": [],
   "source": [
    "dfPoz = df[df['fakeOrNot'] >= meanFakeOrNot] # more of a fake news speech, less intelligent\n",
    "dfNeg = df[df['fakeOrNot'] < meanFakeOrNot] #less of a fake news speech, more intelligent"
   ]
  },
  {
   "cell_type": "code",
   "execution_count": 33,
   "metadata": {},
   "outputs": [
    {
     "data": {
      "text/html": [
       "<div>\n",
       "<style scoped>\n",
       "    .dataframe tbody tr th:only-of-type {\n",
       "        vertical-align: middle;\n",
       "    }\n",
       "\n",
       "    .dataframe tbody tr th {\n",
       "        vertical-align: top;\n",
       "    }\n",
       "\n",
       "    .dataframe thead th {\n",
       "        text-align: right;\n",
       "    }\n",
       "</style>\n",
       "<table border=\"1\" class=\"dataframe\">\n",
       "  <thead>\n",
       "    <tr style=\"text-align: right;\">\n",
       "      <th></th>\n",
       "      <th>text</th>\n",
       "      <th>length</th>\n",
       "      <th>euron</th>\n",
       "      <th>sansa</th>\n",
       "      <th>jaime</th>\n",
       "      <th>arya</th>\n",
       "      <th>tyrion</th>\n",
       "      <th>bran</th>\n",
       "      <th>daenerys</th>\n",
       "      <th>cersei</th>\n",
       "      <th>jon</th>\n",
       "      <th>fakeOrNot</th>\n",
       "      <th>Sentiment</th>\n",
       "    </tr>\n",
       "  </thead>\n",
       "  <tbody>\n",
       "    <tr>\n",
       "      <th>2</th>\n",
       "      <td>more breaking news jinyoung of got and his vis...</td>\n",
       "      <td>109</td>\n",
       "      <td>0</td>\n",
       "      <td>0</td>\n",
       "      <td>0</td>\n",
       "      <td>0</td>\n",
       "      <td>0</td>\n",
       "      <td>0</td>\n",
       "      <td>0</td>\n",
       "      <td>0</td>\n",
       "      <td>0</td>\n",
       "      <td>0.470850</td>\n",
       "      <td>0.240832</td>\n",
       "    </tr>\n",
       "    <tr>\n",
       "      <th>33</th>\n",
       "      <td>uuu so we got trophy for tonight good job broos</td>\n",
       "      <td>47</td>\n",
       "      <td>0</td>\n",
       "      <td>0</td>\n",
       "      <td>0</td>\n",
       "      <td>0</td>\n",
       "      <td>0</td>\n",
       "      <td>0</td>\n",
       "      <td>0</td>\n",
       "      <td>0</td>\n",
       "      <td>0</td>\n",
       "      <td>0.350006</td>\n",
       "      <td>0.971470</td>\n",
       "    </tr>\n",
       "  </tbody>\n",
       "</table>\n",
       "</div>"
      ],
      "text/plain": [
       "                                                 text  length  euron  sansa  \\\n",
       "2   more breaking news jinyoung of got and his vis...     109      0      0   \n",
       "33    uuu so we got trophy for tonight good job broos      47      0      0   \n",
       "\n",
       "    jaime  arya  tyrion  bran  daenerys  cersei  jon  fakeOrNot  Sentiment  \n",
       "2       0     0       0     0         0       0    0   0.470850   0.240832  \n",
       "33      0     0       0     0         0       0    0   0.350006   0.971470  "
      ]
     },
     "execution_count": 33,
     "metadata": {},
     "output_type": "execute_result"
    }
   ],
   "source": [
    "dfPoz.head(2)"
   ]
  },
  {
   "cell_type": "code",
   "execution_count": 34,
   "metadata": {},
   "outputs": [],
   "source": [
    "avgDict = {}\n",
    "for char in chars:\n",
    "    avgDict[char] = [ dfPoz['fakeOrNot'][dfPoz[char] == 1].mean(),dfPoz['Sentiment'][dfPoz[char] == 1].mean()]\n",
    "dataPoz = pd.DataFrame(avgDict, index = ['fakeOrNot', 'Sentiment'])"
   ]
  },
  {
   "cell_type": "code",
   "execution_count": 35,
   "metadata": {},
   "outputs": [],
   "source": [
    "dataPoz = dataPoz.transpose()\n",
    "dataPoz['sentimentPositioning'] = dataPoz['Sentiment'].map(lambda x: x >= meanSentiment)"
   ]
  },
  {
   "cell_type": "code",
   "execution_count": 36,
   "metadata": {},
   "outputs": [],
   "source": [
    "avgDict = {}\n",
    "for char in chars:\n",
    "    avgDict[char] = [ dfNeg['fakeOrNot'][dfNeg[char] == 1].mean(),dfNeg['Sentiment'][dfNeg[char] == 1].mean()]\n",
    "dataNeg = pd.DataFrame(avgDict, index = ['fakeOrNot', 'Sentiment'])"
   ]
  },
  {
   "cell_type": "code",
   "execution_count": 37,
   "metadata": {},
   "outputs": [],
   "source": [
    "dataNeg = dataNeg.transpose()\n",
    "dataNeg['sentimentPositioning'] = dataNeg['Sentiment'].map(lambda x: x >= meanSentiment)"
   ]
  },
  {
   "cell_type": "markdown",
   "metadata": {},
   "source": [
    "## 4. Perceiving and Feeling"
   ]
  },
  {
   "cell_type": "markdown",
   "metadata": {},
   "source": [
    "Low cognitive people will show positive sentiment towards __Feeling__  in the Feeling-Thinking axis, while showing negative sentiment towards __Perceiving__ in the Judgind-Perceiving axis, as we saw."
   ]
  },
  {
   "cell_type": "code",
   "execution_count": 38,
   "metadata": {},
   "outputs": [
    {
     "data": {
      "text/plain": [
       "cersei      False\n",
       "daenerys    False\n",
       "euron       False\n",
       "jon         False\n",
       "tyrion      False\n",
       "Name: sentimentPositioning, dtype: bool"
      ]
     },
     "execution_count": 38,
     "metadata": {},
     "output_type": "execute_result"
    }
   ],
   "source": [
    "dataNeg['sentimentPositioning'][dataNeg['sentimentPositioning'] == False]"
   ]
  },
  {
   "cell_type": "code",
   "execution_count": 39,
   "metadata": {},
   "outputs": [
    {
     "data": {
      "text/html": [
       "<div>\n",
       "<style scoped>\n",
       "    .dataframe tbody tr th:only-of-type {\n",
       "        vertical-align: middle;\n",
       "    }\n",
       "\n",
       "    .dataframe tbody tr th {\n",
       "        vertical-align: top;\n",
       "    }\n",
       "\n",
       "    .dataframe thead th {\n",
       "        text-align: right;\n",
       "    }\n",
       "</style>\n",
       "<table border=\"1\" class=\"dataframe\">\n",
       "  <thead>\n",
       "    <tr style=\"text-align: right;\">\n",
       "      <th></th>\n",
       "      <th>fakeOrNot</th>\n",
       "      <th>Sentiment</th>\n",
       "      <th>sentimentPositioning</th>\n",
       "    </tr>\n",
       "  </thead>\n",
       "  <tbody>\n",
       "    <tr>\n",
       "      <th>arya</th>\n",
       "      <td>0.048972</td>\n",
       "      <td>0.711462</td>\n",
       "      <td>True</td>\n",
       "    </tr>\n",
       "    <tr>\n",
       "      <th>bran</th>\n",
       "      <td>0.045413</td>\n",
       "      <td>0.664949</td>\n",
       "      <td>True</td>\n",
       "    </tr>\n",
       "    <tr>\n",
       "      <th>cersei</th>\n",
       "      <td>0.039211</td>\n",
       "      <td>0.528404</td>\n",
       "      <td>False</td>\n",
       "    </tr>\n",
       "    <tr>\n",
       "      <th>daenerys</th>\n",
       "      <td>0.040522</td>\n",
       "      <td>0.550864</td>\n",
       "      <td>False</td>\n",
       "    </tr>\n",
       "    <tr>\n",
       "      <th>euron</th>\n",
       "      <td>0.052948</td>\n",
       "      <td>0.537135</td>\n",
       "      <td>False</td>\n",
       "    </tr>\n",
       "    <tr>\n",
       "      <th>jaime</th>\n",
       "      <td>0.043467</td>\n",
       "      <td>0.675256</td>\n",
       "      <td>True</td>\n",
       "    </tr>\n",
       "    <tr>\n",
       "      <th>jon</th>\n",
       "      <td>0.034156</td>\n",
       "      <td>0.430993</td>\n",
       "      <td>False</td>\n",
       "    </tr>\n",
       "    <tr>\n",
       "      <th>sansa</th>\n",
       "      <td>0.052391</td>\n",
       "      <td>0.648253</td>\n",
       "      <td>True</td>\n",
       "    </tr>\n",
       "    <tr>\n",
       "      <th>tyrion</th>\n",
       "      <td>0.037602</td>\n",
       "      <td>0.644527</td>\n",
       "      <td>False</td>\n",
       "    </tr>\n",
       "  </tbody>\n",
       "</table>\n",
       "</div>"
      ],
      "text/plain": [
       "          fakeOrNot  Sentiment  sentimentPositioning\n",
       "arya       0.048972   0.711462                  True\n",
       "bran       0.045413   0.664949                  True\n",
       "cersei     0.039211   0.528404                 False\n",
       "daenerys   0.040522   0.550864                 False\n",
       "euron      0.052948   0.537135                 False\n",
       "jaime      0.043467   0.675256                  True\n",
       "jon        0.034156   0.430993                 False\n",
       "sansa      0.052391   0.648253                  True\n",
       "tyrion     0.037602   0.644527                 False"
      ]
     },
     "execution_count": 39,
     "metadata": {},
     "output_type": "execute_result"
    }
   ],
   "source": [
    "dataNeg"
   ]
  },
  {
   "cell_type": "code",
   "execution_count": 40,
   "metadata": {},
   "outputs": [
    {
     "data": {
      "image/png": "[encoded data removed]",
      "text/plain": [
       "<matplotlib.figure.Figure at 0x7f65f77e9eb8>"
      ]
     },
     "metadata": {},
     "output_type": "display_data"
    }
   ],
   "source": [
    "plt.figure(figsize=(10,8))\n",
    "ax = sns.barplot(x=dataNeg.index, y='Sentiment', data=dataNeg,palette=\"YlGnBu\")\n",
    "x = plt.gca().axes.get_xlim()\n",
    "\n",
    "plt.plot(x, len(x) * [meanSentiment], sns.xkcd_rgb[\"pale red\"])\n",
    "plt.savefig(\"images/thinkvsfeeling.png\")\n",
    "plt.show()"
   ]
  },
  {
   "cell_type": "markdown",
   "metadata": {},
   "source": [
    "### Conclusion:\n",
    "* Daeneris and Tyrian are F, liked by low cognitive people \n",
    "* Bran, Jaime, Sansa are P, disliked by low cognitive people"
   ]
  },
  {
   "cell_type": "markdown",
   "metadata": {},
   "source": [
    "## 5. Judging and Thinking"
   ]
  },
  {
   "cell_type": "markdown",
   "metadata": {},
   "source": [
    "High cognitive people will generally show positive sentiment towards __Thinking__  in the Feeling-Thinking axis, while showing negative sentiment towards __Judging__ in the Judgind-Perceiving axis. "
   ]
  },
  {
   "cell_type": "code",
   "execution_count": 41,
   "metadata": {},
   "outputs": [
    {
     "data": {
      "text/html": [
       "<div>\n",
       "<style scoped>\n",
       "    .dataframe tbody tr th:only-of-type {\n",
       "        vertical-align: middle;\n",
       "    }\n",
       "\n",
       "    .dataframe tbody tr th {\n",
       "        vertical-align: top;\n",
       "    }\n",
       "\n",
       "    .dataframe thead th {\n",
       "        text-align: right;\n",
       "    }\n",
       "</style>\n",
       "<table border=\"1\" class=\"dataframe\">\n",
       "  <thead>\n",
       "    <tr style=\"text-align: right;\">\n",
       "      <th></th>\n",
       "      <th>fakeOrNot</th>\n",
       "      <th>Sentiment</th>\n",
       "      <th>sentimentPositioning</th>\n",
       "    </tr>\n",
       "  </thead>\n",
       "  <tbody>\n",
       "    <tr>\n",
       "      <th>arya</th>\n",
       "      <td>0.340751</td>\n",
       "      <td>0.693221</td>\n",
       "      <td>True</td>\n",
       "    </tr>\n",
       "    <tr>\n",
       "      <th>bran</th>\n",
       "      <td>0.355633</td>\n",
       "      <td>0.545963</td>\n",
       "      <td>False</td>\n",
       "    </tr>\n",
       "    <tr>\n",
       "      <th>cersei</th>\n",
       "      <td>0.367515</td>\n",
       "      <td>0.589158</td>\n",
       "      <td>False</td>\n",
       "    </tr>\n",
       "    <tr>\n",
       "      <th>daenerys</th>\n",
       "      <td>0.384529</td>\n",
       "      <td>0.711766</td>\n",
       "      <td>True</td>\n",
       "    </tr>\n",
       "    <tr>\n",
       "      <th>euron</th>\n",
       "      <td>0.292163</td>\n",
       "      <td>0.410503</td>\n",
       "      <td>False</td>\n",
       "    </tr>\n",
       "    <tr>\n",
       "      <th>jaime</th>\n",
       "      <td>0.273153</td>\n",
       "      <td>0.577457</td>\n",
       "      <td>False</td>\n",
       "    </tr>\n",
       "    <tr>\n",
       "      <th>jon</th>\n",
       "      <td>0.269045</td>\n",
       "      <td>0.516986</td>\n",
       "      <td>False</td>\n",
       "    </tr>\n",
       "    <tr>\n",
       "      <th>sansa</th>\n",
       "      <td>0.364446</td>\n",
       "      <td>0.538915</td>\n",
       "      <td>False</td>\n",
       "    </tr>\n",
       "    <tr>\n",
       "      <th>tyrion</th>\n",
       "      <td>0.283595</td>\n",
       "      <td>0.653654</td>\n",
       "      <td>True</td>\n",
       "    </tr>\n",
       "  </tbody>\n",
       "</table>\n",
       "</div>"
      ],
      "text/plain": [
       "          fakeOrNot  Sentiment  sentimentPositioning\n",
       "arya       0.340751   0.693221                  True\n",
       "bran       0.355633   0.545963                 False\n",
       "cersei     0.367515   0.589158                 False\n",
       "daenerys   0.384529   0.711766                  True\n",
       "euron      0.292163   0.410503                 False\n",
       "jaime      0.273153   0.577457                 False\n",
       "jon        0.269045   0.516986                 False\n",
       "sansa      0.364446   0.538915                 False\n",
       "tyrion     0.283595   0.653654                  True"
      ]
     },
     "execution_count": 41,
     "metadata": {},
     "output_type": "execute_result"
    }
   ],
   "source": [
    "dataPoz"
   ]
  },
  {
   "cell_type": "code",
   "execution_count": 42,
   "metadata": {},
   "outputs": [
    {
     "data": {
      "text/plain": [
       "bran      False\n",
       "cersei    False\n",
       "euron     False\n",
       "jaime     False\n",
       "jon       False\n",
       "sansa     False\n",
       "Name: sentimentPositioning, dtype: bool"
      ]
     },
     "execution_count": 42,
     "metadata": {},
     "output_type": "execute_result"
    }
   ],
   "source": [
    "dataPoz['sentimentPositioning'][dataPoz['sentimentPositioning'] == False]"
   ]
  },
  {
   "cell_type": "code",
   "execution_count": 43,
   "metadata": {},
   "outputs": [
    {
     "data": {
      "image/png": "[encoded data removed]",
      "text/plain": [
       "<matplotlib.figure.Figure at 0x7f65f795a2e8>"
      ]
     },
     "metadata": {},
     "output_type": "display_data"
    }
   ],
   "source": [
    "plt.figure(figsize=(10,8))\n",
    "ax = sns.barplot(x=dataPoz.index, y='Sentiment', data=dataPoz,palette=\"YlGnBu\")\n",
    "x = plt.gca().axes.get_xlim()\n",
    "\n",
    "plt.plot(x, len(x) * [meanSentiment], sns.xkcd_rgb[\"pale red\"])\n",
    "plt.savefig(\"images/judgingvsThinking.png\")\n",
    "plt.show()"
   ]
  },
  {
   "cell_type": "markdown",
   "metadata": {},
   "source": [
    "### Conclusion\n",
    "* Bran, Jaime, Sansa are Thinking, liked by high cognitive people\n",
    "* Tyrion, Daenerys are J, are disliked by high cognitive people"
   ]
  },
  {
   "cell_type": "code",
   "execution_count": 44,
   "metadata": {},
   "outputs": [
    {
     "data": {
      "image/png": "[encoded data removed]",
      "text/plain": [
       "<matplotlib.figure.Figure at 0x7f65f798bef0>"
      ]
     },
     "metadata": {},
     "output_type": "display_data"
    }
   ],
   "source": [
    "labels = ['Introvert', 'Sensing', 'Thinking', 'Judging',\n",
    "         'Extrovert', 'Intuition', 'Feeling', 'Perceiving']\n",
    "sizes = [22, 22, 22, 22, 22, 22, 22, 22]\n",
    "#colors\n",
    "# bright red #ff0000 light red #FFE5E5\n",
    "# bright green #009900 light green #EEFFE6\n",
    "# bright blue #0000ff light blue #E5F1FF\n",
    "# bright orange #FF6103' light orange #FFF0E5\n",
    "\n",
    "colorsBran = ['#ff0000','#E5F1FF','#009900','#FFF0E5',\n",
    "         '#FFE5E5','#0000ff','#EEFFE6','#FF6103']\n",
    "\n",
    "colorsArya = ['#FFE5E5','#0000ff','#EEFFE6','#FFF0E5',\n",
    "         '#ff0000','#E5F1FF','#EEFFE6','#FFF0E5']\n",
    "\n",
    "colorsCersei = ['#FFE5E5','#E5F1FF','#EEFFE6','#FFF0E5',\n",
    "         '#ff0000','#0000ff','#EEFFE6','#FFF0E5']\n",
    "\n",
    "colorsDaenerys = ['#FFE5E5','#E5F1FF','#EEFFE6','#FF6103',\n",
    "         '#ff0000','#0000ff','#009900','#FFF0E5']\n",
    "\n",
    "colorsEuron = ['#FFE5E5','#E5F1FF','#EEFFE6','#FFF0E5',\n",
    "         '#ff0000','#0000ff','#EEFFE6','#FFF0E5']\n",
    "\n",
    "colorsJaime = ['#FFE5E5','#E5F1FF','#009900','#FFF0E5',\n",
    "         '#ff0000','#0000ff','#EEFFE6','#FF6103']\n",
    "\n",
    "colorsJon = ['#ff0000','#E5F1FF','#EEFFE6','#FFF0E5',\n",
    "         '#FFE5E5','#0000ff','#EEFFE6','#FFF0E5']\n",
    "\n",
    "colorsSansa = ['#FFE5E5','#E5F1FF','#009900','#FFF0E5',\n",
    "         '#ff0000','#0000ff','#EEFFE6','#FF6103']\n",
    "\n",
    "colorsTyrion = ['#FFE5E5','#0000ff','#EEFFE6','#FF6103',\n",
    "         '#ff0000','#E5F1FF','#009900','#FFF0E5']\n",
    "#explsion\n",
    "explode = (0.05,0.05,0.05,0.05,0.05,0.05,0.05,0.05)\n",
    "\n",
    "circleBran = plt.Circle((0,0),0.23,fc='white')\n",
    "circleArya = plt.Circle((0,0),0.23,fc='white')\n",
    "circleCersei = plt.Circle((0,0),0.23,fc='white')\n",
    "circleDaenerys = plt.Circle((0,0),0.23,fc='white')\n",
    "circleEuron = plt.Circle((0,0),0.23,fc='white')\n",
    "circleJaime = plt.Circle((0,0),0.23,fc='white')\n",
    "circleJon = plt.Circle((0,0),0.23,fc='white')\n",
    "circleSansa = plt.Circle((0,0),0.23,fc='white')\n",
    "circleTyrion = plt.Circle((0,0),0.23,fc='white')\n",
    "\n",
    "fig = plt.figure(figsize=(20, 10))\n",
    "axes = fig.subplots(nrows=3, ncols=3)\n",
    "\n",
    "axes[0,0].pie(sizes, colors = colorsArya, labels=labels,  startangle=90, pctdistance=0.85, explode = explode)\n",
    "axes[0,0].set_title('Arya')\n",
    "\n",
    "axes[0,1].pie(sizes, colors = colorsBran, labels=labels,  startangle=90, pctdistance=0.85, explode = explode)\n",
    "axes[0,1].set_title('Bran')\n",
    "\n",
    "axes[0,2].pie(sizes, colors = colorsCersei, labels=labels,  startangle=90, pctdistance=0.85, explode = explode)\n",
    "axes[0,2].set_title('Cersei')\n",
    "\n",
    "\n",
    "axes[1,0].pie(sizes, colors = colorsDaenerys, labels=labels,  startangle=90, pctdistance=0.85, explode = explode)\n",
    "axes[1,0].set_title('Daenerys')\n",
    "\n",
    "axes[1,1].pie(sizes, colors = colorsEuron, labels=labels,  startangle=90, pctdistance=0.85, explode = explode)\n",
    "axes[1,1].set_title('Euron')\n",
    "\n",
    "axes[1,2].pie(sizes, colors = colorsJaime, labels=labels,  startangle=90, pctdistance=0.85, explode = explode)\n",
    "axes[1,2].set_title('Jaime')\n",
    "\n",
    "\n",
    "axes[2,0].pie(sizes, colors = colorsJon, labels=labels,  startangle=90, pctdistance=0.85, explode = explode)\n",
    "axes[2,0].set_title('Jon')\n",
    "\n",
    "axes[2,1].pie(sizes, colors = colorsSansa, labels=labels,  startangle=90, pctdistance=0.85, explode = explode)\n",
    "axes[2,1].set_title('Sansa')\n",
    "\n",
    "axes[2,2].pie(sizes, colors = colorsTyrion, labels=labels,  startangle=90, pctdistance=0.85, explode = explode)\n",
    "axes[2,2].set_title('Tyrion')\n",
    "\n",
    "\n",
    "#draw circles\n",
    "axes[0,0].add_patch(circleBran)\n",
    "axes[0,1].add_patch(circleArya)\n",
    "axes[0,2].add_patch(circleCersei)\n",
    "axes[1,0].add_patch(circleDaenerys)\n",
    "axes[1,1].add_patch(circleEuron)\n",
    "axes[1,2].add_patch(circleJaime)\n",
    "axes[2,0].add_patch(circleJon)\n",
    "axes[2,1].add_patch(circleSansa)\n",
    "axes[2,2].add_patch(circleTyrion)\n",
    "#plt.tight_layout()\n",
    "plt.savefig(\"images/analysis.png\")\n",
    "plt.tight_layout()\n",
    "plt.show()"
   ]
  },
  {
   "cell_type": "markdown",
   "metadata": {},
   "source": [
    "* Arya: ESxx - can be Provider, Supervisor, Performer, Provider\n",
    "* Bran: INTP -Architect\n",
    "* Cersei: ENxx - can be Champion, Teacher, Inventor, Fieldmarshal\n",
    "* Daenerys: ENFJ -Teacher\n",
    "* Euron: ENxx - can be Champion, Teacher, Inventor, Fieldmarshal\n",
    "* Jaime: ENTP -Inventor\n",
    "* Jon: INxx - can be Counselor, Architect, Mastermind, Healer\n",
    "* Sansa: ENTP - Inventor\n",
    "* Tyrion: ESFJ -Provider"
   ]
  },
  {
   "cell_type": "code",
   "execution_count": null,
   "metadata": {},
   "outputs": [],
   "source": []
  }
 ],
 "metadata": {
  "kernelspec": {
   "display_name": "Python 3",
   "language": "python",
   "name": "python3"
  },
  "language_info": {
   "codemirror_mode": {
    "name": "ipython",
    "version": 3
   },
   "file_extension": ".py",
   "mimetype": "text/x-python",
   "name": "python",
   "nbconvert_exporter": "python",
   "pygments_lexer": "ipython3",
   "version": "3.6.4"
  }
 },
 "nbformat": 4,
 "nbformat_minor": 2
}
